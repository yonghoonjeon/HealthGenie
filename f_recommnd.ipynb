{
 "cells": [
  {
   "attachments": {},
   "cell_type": "markdown",
   "metadata": {},
   "source": [
    "reference \n",
    "\n",
    "- https://www.kaggle.com/code/ibtesama/getting-started-with-a-movie-recommendation-system#Collaborative-Filtering\n",
    "- https://realpython.com/build-recommendation-engine-collaborative-filtering/#memory-based"
   ]
  },
  {
   "cell_type": "code",
   "execution_count": 4,
   "metadata": {},
   "outputs": [],
   "source": [
    "import pandas as pd \n",
    "import content_based_user_rec\n",
    "\n",
    "def get_similar_users(user_id):\n",
    "    pha_user= pd.read_csv('pha_user.csv')\n",
    "    pha_user = pha_user[pha_user['is_superuser'] != True]\n",
    "    recommendation_dic = dict()\n",
    "    n_user = len(list(pha_user['us_id']))\n",
    "    for i in range(0, n_user-1):\n",
    "        cur_user = pha_user['us_id'].iloc[i]\n",
    "        result = content_based_user_rec.get_recommendations(cur_user)\n",
    "        recommendation_dic[cur_user] = result\n",
    "\n",
    "    \n",
    "    result = recommendation_dic[user_id]\n",
    "    return result"
   ]
  },
  {
   "cell_type": "code",
   "execution_count": 24,
   "metadata": {},
   "outputs": [],
   "source": [
    "# 5 similar users \n",
    "similar_user_list = get_similar_users(2)[0:9]\n",
    "similar_user_list.append(2)\n",
    "\n",
    "import psycopg2\n",
    "\n",
    "# rating table = food_id, user_id, rating, meal_time (latest update time)\n",
    "# need to get the project_id and user_id \n",
    "def get_rating_table(similar_user_list, project_id, user_id):\n",
    "    similar_user_tuple = tuple(similar_user_list)\n",
    "    conn = psycopg2.connect(\n",
    "        host = 'localhost', # find it from my_setting.spy in HealthGeinie directory\n",
    "        database = 'postgres',\n",
    "        user = 'postgres',\n",
    "        password = '0847'\n",
    "    )\n",
    "    cur = conn.cursor()\n",
    "    query = \"select temp.food_id, temp.user_id, temp.rating, temp.meal_time from (select food_id, user_id, rating, meal_time, meal_id from new_pha_meal where user_id IN %s ORDER BY food_id, user_id, meal_time) as temp where temp.meal_time <= (select end_time from pha_project where project_id = %s and user_id = %s) and temp.meal_time >= (select start_time from pha_project where project_id = %s and user_id = %s) AND temp.meal_time = (select MAX(meal_time) FROM new_pha_meal WHERE food_id = temp.food_id AND user_id = temp.user_id);\"\n",
    "    cur.execute(query, (similar_user_tuple, project_id,user_id,project_id,user_id,))\n",
    "    result = cur.fetchall()\n",
    "    cur.close()\n",
    "    return result\n",
    "\n",
    "food_rating = get_rating_table(similar_user_list, 5, 2)\n",
    "#print(food_rating[0])"
   ]
  },
  {
   "cell_type": "code",
   "execution_count": 25,
   "metadata": {},
   "outputs": [
    {
     "data": {
      "text/plain": [
       "[4, 6, 11, 10, 5, 3, 12, 8, 2, 2]"
      ]
     },
     "execution_count": 25,
     "metadata": {},
     "output_type": "execute_result"
    }
   ],
   "source": [
    "similar_user_list"
   ]
  },
  {
   "cell_type": "code",
   "execution_count": null,
   "metadata": {},
   "outputs": [],
   "source": [
    "# if it cannot be built, you should check On Windows, you may need to install Microsoft Visual C++ Build Tools or Microsoft Visual Studio.\n",
    "#pip install scikit-surprise"
   ]
  },
  {
   "cell_type": "code",
   "execution_count": 26,
   "metadata": {},
   "outputs": [
    {
     "name": "stdout",
     "output_type": "stream",
     "text": [
      "[]\n",
      "[]\n",
      "[34, 20]\n",
      "[]\n",
      "[]\n",
      "[43]\n",
      "[]\n",
      "[]\n",
      "[]\n"
     ]
    }
   ],
   "source": [
    "import pandas as pd\n",
    "from surprise import SVD\n",
    "from surprise import Dataset\n",
    "from surprise.model_selection import train_test_split\n",
    "\n",
    "# Load the dataset\n",
    "#data = Dataset.load_builtin('ml-100k')\n",
    "reader = Reader(rating_scale=(1, 5))\n",
    "rating = pd.DataFrame(food_rating)\n",
    "rating.columns = ['food_id', 'user_id', 'rating', 'update_time']\n",
    "data = Dataset.load_from_df(rating[['user_id', 'food_id', 'rating']], reader)\n",
    "\n",
    "\n",
    "# Split the dataset into training and testing sets\n",
    "trainset, testset = train_test_split(data, test_size=.25)\n",
    "\n",
    "# Train the model using SVD algorithm\n",
    "algo = SVD()\n",
    "algo.fit(trainset)\n",
    "\n",
    "# Get the list of all unique user ids\n",
    "user_ids = data.df['user_id'].unique()\n",
    "\n",
    "# Create a dictionary to store the top recommended items for each user\n",
    "top_recs = {}\n",
    "\n",
    "# For each user id, get the list of items that have not been rated by the user\n",
    "for user_id in user_ids:\n",
    "    # Get the list of all items\n",
    "    items = data.df['food_id'].unique()\n",
    "    # Get the list of items that have been rated by the user\n",
    "    rated_items = data.df[data.df['user_id'] == user_id]['food_id'].unique()\n",
    "    # Get the list of items that have not been rated by the user\n",
    "    unrated_items = list(set(items) - set(rated_items))\n",
    "    # Get the predicted ratings for the unrated items\n",
    "    predicted_ratings = [algo.predict(user_id, item_id).est for item_id in unrated_items]\n",
    "    # Combine the list of unrated items with their predicted ratings\n",
    "    unrated_items_with_ratings = zip(unrated_items, predicted_ratings)\n",
    "    # Sort the items by their predicted ratings\n",
    "    sorted_items = sorted(unrated_items_with_ratings, key=lambda x: x[1], reverse=True)\n",
    "    # Get the top recommended items for the user\n",
    "    top_items = [item_id for item_id, rating in sorted_items[:10]]\n",
    "    # Add the top recommended items to the dictionary\n",
    "    top_recs[user_id] = top_items\n",
    "    print(top_recs[user_id])\n"
   ]
  },
  {
   "cell_type": "code",
   "execution_count": 27,
   "metadata": {},
   "outputs": [
    {
     "data": {
      "text/plain": [
       "{2: [], 3: [], 4: [34, 20], 5: [], 6: [], 8: [43], 10: [], 11: [], 12: []}"
      ]
     },
     "execution_count": 27,
     "metadata": {},
     "output_type": "execute_result"
    }
   ],
   "source": [
    "top_recs"
   ]
  }
 ],
 "metadata": {
  "kernelspec": {
   "display_name": "torch_book",
   "language": "python",
   "name": "torch_book"
  },
  "language_info": {
   "codemirror_mode": {
    "name": "ipython",
    "version": 3
   },
   "file_extension": ".py",
   "mimetype": "text/x-python",
   "name": "python",
   "nbconvert_exporter": "python",
   "pygments_lexer": "ipython3",
   "version": "3.9.12"
  },
  "orig_nbformat": 4
 },
 "nbformat": 4,
 "nbformat_minor": 2
}
